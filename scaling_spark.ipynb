{
 "cells": [
  {
   "cell_type": "code",
   "execution_count": 1,
   "metadata": {},
   "outputs": [],
   "source": [
    "import findspark\n",
    "findspark.init()\n",
    "\n",
    "from pyspark.sql import SparkSession\n",
    "from pyspark.sql import functions\n",
    "from pyspark.sql.functions import lit, col,  to_number, format_number\n",
    "\n",
    "spark = SparkSession.builder \\\n",
    "    .appName('Hadoop - Scaling Spark') \\\n",
    "        .config(\"spark.sql.catalogImplementation\", \"hive\") \\\n",
    "            .getOrCreate()"
   ]
  },
  {
   "cell_type": "markdown",
   "metadata": {},
   "source": [
    "+   Load file, dataframe and data view instances"
   ]
  },
  {
   "cell_type": "code",
   "execution_count": 2,
   "metadata": {},
   "outputs": [],
   "source": [
    "df_taxes2013 = spark.read.csv('zipcodeagi13.csv', header=True)\n",
    "df_taxes2013.createOrReplaceTempView('sql_taxes2013')"
   ]
  },
  {
   "cell_type": "markdown",
   "metadata": {},
   "source": [
    "+ Format the fields - use ideal data types and rename columns on spark df and view"
   ]
  },
  {
   "cell_type": "code",
   "execution_count": 3,
   "metadata": {},
   "outputs": [
    {
     "name": "stdout",
     "output_type": "stream",
     "text": [
      "+-----+-------+--------------+-------------+------+-------------------+-----------------------+-----------------+--------------+\n",
      "|state|zipcode|single_returns|joint_returns|numdep|total_income_amount|taxable_interest_amount|net_capital_gains|biz_net_income|\n",
      "+-----+-------+--------------+-------------+------+-------------------+-----------------------+-----------------+--------------+\n",
      "|   AL|      0|        488030|       122290|571240|        1.1444868E7|             77952.0000|          23583.0|      824487.0|\n",
      "|   AL|      0|        195840|       155230|383240|        1.7810952E7|             81216.0000|          54639.0|      252768.0|\n",
      "|   AL|      0|         72710|       146880|189340|        1.6070153E7|             80627.0000|          84137.0|      259836.0|\n",
      "|   AL|      0|         24860|       126480|134370|        1.4288572E7|             71086.0000|         105947.0|      214668.0|\n",
      "|   AL|      0|         16930|       168170|177800|         2.605392E7|            149150.0000|         404166.0|      567439.0|\n",
      "+-----+-------+--------------+-------------+------+-------------------+-----------------------+-----------------+--------------+\n",
      "only showing top 5 rows\n",
      "\n"
     ]
    }
   ],
   "source": [
    "df_cleaned_taxes = df_taxes2013.select(\n",
    "    'state',\n",
    "    (col('zipcode')/10).cast('integer').alias('zipcode'),\n",
    "    col('mars1').cast('int').alias('single_returns'),\n",
    "    col('mars2').cast('int').alias('joint_returns'),\n",
    "    col('numdep').cast('int'),\n",
    "    col('A02650').cast('double').alias('total_income_amount'),\n",
    "    col('A00300').alias('taxable_interest_amount'),\n",
    "    col('a01000').cast('double').alias('net_capital_gains'),\n",
    "    col('a00900').cast('double').alias('biz_net_income')\n",
    ")\n",
    "df_cleaned_taxes.show(5)"
   ]
  },
  {
   "cell_type": "code",
   "execution_count": 4,
   "metadata": {},
   "outputs": [
    {
     "name": "stdout",
     "output_type": "stream",
     "text": [
      "+-----+-------+--------------+-------------+------+-------------------+-----------------------+-----------------+--------------+\n",
      "|state|zipcode|single_returns|joint_returns|numdep|total_income_amount|taxable_interest_amount|net_capital_gains|biz_net_income|\n",
      "+-----+-------+--------------+-------------+------+-------------------+-----------------------+-----------------+--------------+\n",
      "|   AL|      0|        488030|       122290|571240|        11444868.00|               77952.00|         23583.00|     824487.00|\n",
      "|   AL|      0|        195840|       155230|383240|        17810952.00|               81216.00|         54639.00|     252768.00|\n",
      "|   AL|      0|         72710|       146880|189340|        16070153.00|               80627.00|         84137.00|     259836.00|\n",
      "|   AL|      0|         24860|       126480|134370|        14288572.00|               71086.00|        105947.00|     214668.00|\n",
      "|   AL|      0|         16930|       168170|177800|        26053920.00|              149150.00|        404166.00|     567439.00|\n",
      "+-----+-------+--------------+-------------+------+-------------------+-----------------------+-----------------+--------------+\n",
      "only showing top 5 rows\n",
      "\n"
     ]
    }
   ],
   "source": [
    "sqlqry = '''\n",
    "  SELECT \n",
    "    state, \n",
    "    cast(zipcode / 10 as int) zipcode,\n",
    "    cast(mars1 as int) single_returns,\n",
    "    int(mars2) as joint_returns,\n",
    "    int(numdep) as numdep,\n",
    "    cast(A02650 as decimal(10,2)) as total_income_amount,\n",
    "    cast(A00300 as decimal(10,2)) as taxable_interest_amount,\n",
    "    cast(a01000 as decimal(10,2)) as net_capital_gains,\n",
    "    cast(a00900 as decimal(10,2)) as biz_net_income\n",
    "  FROM sql_taxes2013\n",
    "'''\n",
    "spark.sql(sqlqry).createOrReplaceTempView('sql_cleaned_taxes')\n",
    "spark.sql('select * from sql_cleaned_taxes').show(5)\n"
   ]
  },
  {
   "cell_type": "markdown",
   "metadata": {},
   "source": [
    " \n",
    "+ Which states have the highest income per zip code?"
   ]
  },
  {
   "cell_type": "code",
   "execution_count": 9,
   "metadata": {},
   "outputs": [
    {
     "name": "stdout",
     "output_type": "stream",
     "text": [
      "+-----+-------+---------+\n",
      "|state|zipcode|NetIncome|\n",
      "+-----+-------+---------+\n",
      "|   CA|      0| 51876045|\n",
      "|   TX|      0| 29345002|\n",
      "|   NY|      0| 24952005|\n",
      "|   FL|      0| 16519558|\n",
      "|   PA|      0| 12207777|\n",
      "+-----+-------+---------+\n",
      "only showing top 5 rows\n",
      "\n"
     ]
    }
   ],
   "source": [
    "df_cleaned_taxes.groupBy('state','zipcode').sum('biz_net_income')\\\n",
    "   .select('state','zipcode', col('sum(biz_net_income)').alias('NetIncome').cast('decimal'))\\\n",
    "    .orderBy('NetIncome', ascending = False).show(5)"
   ]
  },
  {
   "cell_type": "code",
   "execution_count": 6,
   "metadata": {},
   "outputs": [
    {
     "name": "stdout",
     "output_type": "stream",
     "text": [
      "+-----+-------+-----------+\n",
      "|state|zipcode|  NetIncome|\n",
      "+-----+-------+-----------+\n",
      "|   CA|      0|51876045.00|\n",
      "|   TX|      0|29345002.00|\n",
      "|   NY|      0|24952005.00|\n",
      "|   FL|      0|16519558.00|\n",
      "|   PA|      0|12207777.00|\n",
      "+-----+-------+-----------+\n",
      "only showing top 5 rows\n",
      "\n"
     ]
    }
   ],
   "source": [
    "spark.sql(\n",
    "    '''\n",
    "        select \n",
    "            state, zipcode, sum(biz_net_income) as NetIncome\n",
    "        from sql_cleaned_taxes\n",
    "        group by state, zipcode\n",
    "        order by NetIncome desc\n",
    "    '''\n",
    ").show(5)"
   ]
  },
  {
   "cell_type": "markdown",
   "metadata": {},
   "source": [
    "+   Next two scripts performs same action in different ways"
   ]
  },
  {
   "cell_type": "code",
   "execution_count": 7,
   "metadata": {},
   "outputs": [
    {
     "name": "stdout",
     "output_type": "stream",
     "text": [
      "+-----+-------+---------+\n",
      "|state|zipcode|cap_gains|\n",
      "+-----+-------+---------+\n",
      "|WV   |2659   |-20.00   |\n",
      "|KY   |4126   |-14.00   |\n",
      "+-----+-------+---------+\n",
      "only showing top 2 rows\n",
      "\n"
     ]
    }
   ],
   "source": [
    "spark.sql(\n",
    "''' \n",
    "    SELECT state,zipcode, SUM(net_capital_gains) AS cap_gains\n",
    "    FROM sql_cleaned_taxes\n",
    "    WHERE NOT (zipcode = 0000 OR zipcode = 9999)\n",
    "    GROUP BY state,zipcode\n",
    "    ORDER BY cap_gains ASC\n",
    "'''\n",
    ").show(2,truncate=False)"
   ]
  },
  {
   "cell_type": "code",
   "execution_count": 8,
   "metadata": {},
   "outputs": [
    {
     "name": "stdout",
     "output_type": "stream",
     "text": [
      "+-----+-------+---------+\n",
      "|state|zipcode|cap_gains|\n",
      "+-----+-------+---------+\n",
      "|   WV|   2659|    -20.0|\n",
      "|   KY|   4126|    -14.0|\n",
      "+-----+-------+---------+\n",
      "only showing top 2 rows\n",
      "\n"
     ]
    }
   ],
   "source": [
    "df_cleaned_taxes.filter((col('zipcode') != '0000') | (col('zipcode') != '9999')) \\\n",
    "    .groupBy('state','zipcode').sum('net_capital_gains') \\\n",
    "        .select('state','zipcode', col('sum(net_capital_gains)').alias('cap_gains')) \\\n",
    "            .orderBy('cap_gains').show(2)"
   ]
  }
 ],
 "metadata": {
  "kernelspec": {
   "display_name": "venv-data-engineering",
   "language": "python",
   "name": "python3"
  },
  "language_info": {
   "codemirror_mode": {
    "name": "ipython",
    "version": 3
   },
   "file_extension": ".py",
   "mimetype": "text/x-python",
   "name": "python",
   "nbconvert_exporter": "python",
   "pygments_lexer": "ipython3",
   "version": "3.11.1"
  }
 },
 "nbformat": 4,
 "nbformat_minor": 2
}
