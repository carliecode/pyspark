{
  "cells": [
    {
      "cell_type": "markdown",
      "metadata": {
        "id": "ZZPtipYTrbgk"
      },
      "source": [
        "# <center/> PySpark by Example "
      ]
    },
    {
      "cell_type": "markdown",
      "metadata": {},
      "source": []
    },
    {
      "cell_type": "markdown",
      "metadata": {},
      "source": [
        "## 1 - Initialize the Spark Engine"
      ]
    },
    {
      "cell_type": "markdown",
      "metadata": {},
      "source": [
        "### 1.1 - Load all essential libraries, functions and initiate SparkSession"
      ]
    },
    {
      "cell_type": "code",
      "execution_count": 1,
      "metadata": {
        "id": "We2yp-o7Hgu9"
      },
      "outputs": [],
      "source": [
        "import findspark\n",
        "findspark.init()"
      ]
    },
    {
      "cell_type": "code",
      "execution_count": 2,
      "metadata": {
        "id": "QdrFO3yrwptm"
      },
      "outputs": [],
      "source": [
        "from pyspark.sql import SparkSession\n",
        "from pyspark.sql.functions import col,lit, max, min , to_timestamp, to_date,count"
      ]
    },
    {
      "cell_type": "code",
      "execution_count": 3,
      "metadata": {},
      "outputs": [],
      "source": [
        "spark = SparkSession.builder.appName('PySpark by Example').getOrCreate()"
      ]
    },
    {
      "cell_type": "markdown",
      "metadata": {
        "id": "0ysUlfFrN5OD"
      },
      "source": [
        "### 1.2 - Load and explore Chicago's Reported Crime Data (Basic EDA)"
      ]
    },
    {
      "cell_type": "code",
      "execution_count": null,
      "metadata": {
        "id": "9-1cK0nPNS95"
      },
      "outputs": [],
      "source": [
        "#Display sample record\n",
        "df_rc = spark.read.csv('reported_crimes.csv', header=True)\n",
        "df_rc.show(3, truncate = False)"
      ]
    },
    {
      "cell_type": "code",
      "execution_count": null,
      "metadata": {},
      "outputs": [],
      "source": [
        "#Determine schema structure, especially types\n",
        "df_rc.printSchema()"
      ]
    },
    {
      "cell_type": "code",
      "execution_count": null,
      "metadata": {},
      "outputs": [],
      "source": [
        "#Get brief stats to detrmine subset for analysis purposes. Its obviously a large dataset\n",
        "df_rc.select(\n",
        "    max(to_date(col('Date'),'MM/dd/yyyy HH:mm:ss a')).alias('max_date'),\n",
        "    min(to_date(col('Date'),'MM/dd/yyyy HH:mm:ss a')).alias('min_date'),\n",
        "    count(col('ID')).alias('rec_count')\n",
        ").show()"
      ]
    },
    {
      "cell_type": "code",
      "execution_count": null,
      "metadata": {
        "id": "YDoMDzk0kWLF"
      },
      "outputs": [],
      "source": [
        "#Let us load data for 20 years strictly for analysis purposes and convert 'Date' to a valid type\n",
        "df_rc = df_rc.withColumn('Date',to_timestamp(col('Date'),'MM/dd/yyyy HH:mm:ss a')).filter(col('Date') < lit('2020-01-01'))\n",
        "df_rc.show(3)"
      ]
    },
    {
      "cell_type": "markdown",
      "metadata": {},
      "source": []
    },
    {
      "cell_type": "markdown",
      "metadata": {
        "id": "mI_zYOVpf2yK"
      },
      "source": [
        "## 2 - Working with columns"
      ]
    },
    {
      "cell_type": "markdown",
      "metadata": {
        "id": "WvOfJmzhf0kG"
      },
      "source": [
        "### 2.1 - Display only the first 5 rows of the column name IUCR"
      ]
    },
    {
      "cell_type": "code",
      "execution_count": null,
      "metadata": {
        "id": "808f1HzwgDyh"
      },
      "outputs": [],
      "source": [
        "df_rc.select('IUCR').show(5)"
      ]
    },
    {
      "cell_type": "markdown",
      "metadata": {
        "id": "A4u5vp73gEtB"
      },
      "source": [
        "  ### 2.2 - Display only the first 4 rows of the column names Case Number, Date and Arrest"
      ]
    },
    {
      "cell_type": "code",
      "execution_count": null,
      "metadata": {
        "id": "vWhJLf41yJl1"
      },
      "outputs": [],
      "source": [
        "df_rc.select('Case Number','Date', 'Arrest').show(4)"
      ]
    },
    {
      "cell_type": "markdown",
      "metadata": {
        "id": "GKnmLXJWr35c"
      },
      "source": [
        "### 2.3 - Add a column with name One, with entries all 1s"
      ]
    },
    {
      "cell_type": "code",
      "execution_count": null,
      "metadata": {
        "id": "_OhKvPoItNtK"
      },
      "outputs": [],
      "source": [
        "df_rc.withColumn('One',lit('1')).show(3)"
      ]
    },
    {
      "cell_type": "markdown",
      "metadata": {
        "id": "BKV2ymA2uI2h"
      },
      "source": [
        "### 2.4 - Remove the column IUCR"
      ]
    },
    {
      "cell_type": "code",
      "execution_count": null,
      "metadata": {
        "id": "3wr2Q9djtXBV"
      },
      "outputs": [],
      "source": [
        "df_rc.drop('IUCR').show(3)"
      ]
    },
    {
      "cell_type": "markdown",
      "metadata": {},
      "source": []
    },
    {
      "cell_type": "markdown",
      "metadata": {
        "id": "NiU1nhA3y0j4"
      },
      "source": [
        "## 3 - Working with rows"
      ]
    },
    {
      "cell_type": "markdown",
      "metadata": {
        "id": "hgnCWSfNZsLV"
      },
      "source": [
        "### 3.1 - Add the reported crimes for another 3 yrs. (2020-01-01 <= X < 2024-01-01)"
      ]
    },
    {
      "cell_type": "code",
      "execution_count": 12,
      "metadata": {},
      "outputs": [],
      "source": [
        "from pyspark.sql.functions import year, dayofweek, months"
      ]
    },
    {
      "cell_type": "code",
      "execution_count": null,
      "metadata": {
        "id": "52EiVt15y0j4"
      },
      "outputs": [],
      "source": [
        "df_more_data = spark.read.csv('reported_crimes.csv', header=True) \\\n",
        "    .withColumn('Date',to_timestamp(col('Date'),'MM/dd/yyyy HH:mm:ss a')) \\\n",
        "        .filter((col('Date') > lit('2020-01-01')) & (col('Date') < lit('2024-01-01'))).distinct()\n",
        "\n",
        "print(f'The newly added data has : {df_more_data.count()} records!')"
      ]
    },
    {
      "cell_type": "code",
      "execution_count": null,
      "metadata": {},
      "outputs": [],
      "source": [
        "df = df_rc.union(df_more_data)\n",
        "#df.count(), df_rc.count(), df_more_data.count()\n",
        "data = [(df_rc.count(),df_more_data.count(),df.count() )]\n",
        "spark.createDataFrame(data,['Initial Data Loaded','Additional Data Loaded','Total Data on DF']).show()"
      ]
    },
    {
      "cell_type": "code",
      "execution_count": null,
      "metadata": {},
      "outputs": [],
      "source": [
        "df.groupby(year(col('Date'))).count() \\\n",
        "    .toDF('Year', 'Report Crimes Count') \\\n",
        "        .orderBy('Year', ascending=False).show(50,truncate=False)"
      ]
    },
    {
      "cell_type": "markdown",
      "metadata": {
        "id": "rzaD3gLyy0j4"
      },
      "source": [
        "### 3.2 - What are the top 10 number of reported crimes by Primary type, in DESC order?"
      ]
    },
    {
      "cell_type": "code",
      "execution_count": null,
      "metadata": {
        "id": "vl3SHZdty0j5"
      },
      "outputs": [],
      "source": [
        "df.groupBy('Primary Type').count().toDF('Primary Type', 'Count of Crimes Reported')\\\n",
        "    .orderBy('Count of Crimes Reported', ascending=False)\\\n",
        "        .show(10, truncate=False)"
      ]
    },
    {
      "cell_type": "markdown",
      "metadata": {
        "id": "9sDnyyzozVxA"
      },
      "source": [
        "### 3.3 - Challenge"
      ]
    },
    {
      "cell_type": "markdown",
      "metadata": {
        "id": "OdV2UOUczVxA"
      },
      "source": [
        "#### 3.3(A) - What percentage of reported crimes resulted in an arrest?"
      ]
    },
    {
      "cell_type": "code",
      "execution_count": null,
      "metadata": {},
      "outputs": [],
      "source": [
        "from pyspark.sql.functions import lower, round,to_str\n",
        "df.cache()"
      ]
    },
    {
      "cell_type": "code",
      "execution_count": null,
      "metadata": {
        "id": "-3yQ3XA3zVxB"
      },
      "outputs": [],
      "source": [
        "tot_cases = df.count()\n",
        "arrests = df.filter(lower(col('Arrest')) == 'true').count()\n",
        "perc = (arrests/tot_cases)*100\n",
        "data = [(tot_cases, arrests, perc)]  # Note the extra parentheses\n",
        "spark.createDataFrame(data, ['Cases','Arrest','Percentage Arrest %']).show()"
      ]
    },
    {
      "cell_type": "markdown",
      "metadata": {
        "id": "6etuZFwczVxB"
      },
      "source": [
        "#### 3.3(B) - What are the top 3 locations for reported crimes?"
      ]
    },
    {
      "cell_type": "code",
      "execution_count": null,
      "metadata": {
        "id": "05kJeui5zVxB"
      },
      "outputs": [],
      "source": [
        "df.groupBy('Location Description').count().orderBy('count', ascending=False).show(3)"
      ]
    },
    {
      "cell_type": "markdown",
      "metadata": {},
      "source": []
    },
    {
      "cell_type": "markdown",
      "metadata": {},
      "source": [
        "##  4 - Built-in functions"
      ]
    },
    {
      "cell_type": "code",
      "execution_count": 20,
      "metadata": {
        "id": "8b9jy_g708--"
      },
      "outputs": [],
      "source": [
        "from pyspark.sql.functions import lower, upper, max, min,substring, date_add"
      ]
    },
    {
      "cell_type": "markdown",
      "metadata": {},
      "source": [
        "**This is just fooling around with join,aggregates and so on. You can disregard though it works without analytical sense**"
      ]
    },
    {
      "cell_type": "code",
      "execution_count": null,
      "metadata": {
        "id": "z7m60N3_08--"
      },
      "outputs": [],
      "source": [
        "d1 = df.groupby(year(col('Date'))).agg({'Date':'count'}).toDF('Date','Dates_Count')\n",
        "d2 = df.groupby(year(col('Date'))).agg({'Date':'mean'}).toDF('Date2','Dates_Mean')\n",
        "\n",
        "d3 = d1.join(\n",
        "    d2, d1.Date == d2.Date2,'inner'\n",
        ")\n",
        "d3.select('Date','Date2','Dates_Count','Dates_Mean').show()\n",
        "\n"
      ]
    },
    {
      "cell_type": "markdown",
      "metadata": {
        "id": "1yL-b-swunTM"
      },
      "source": [
        "### 4.1 - String functions"
      ]
    },
    {
      "cell_type": "markdown",
      "metadata": {
        "id": "rHp9A7wyp1L4"
      },
      "source": [
        "**Display the Primary Type column in lower and upper characters, and the first 4 characters of the column**"
      ]
    },
    {
      "cell_type": "code",
      "execution_count": null,
      "metadata": {
        "id": "4HNqGQKCqE9K"
      },
      "outputs": [],
      "source": [
        "df.select(\n",
        "    lower(col('Primary Type')).alias('Lowercase Name'),\n",
        "    upper(col('Primary Type')).alias('Uppercase Name'),\n",
        "    substring(col('Primary Type'),1,4).alias('Substring Name')\n",
        "    ).show(5,truncate=False)\n"
      ]
    },
    {
      "cell_type": "markdown",
      "metadata": {
        "id": "ZYDsLbbrf6dK"
      },
      "source": [
        "### 4.2 - Numeric functions\n"
      ]
    },
    {
      "cell_type": "markdown",
      "metadata": {
        "id": "H5CZwvAwhpCx"
      },
      "source": [
        "**Show the oldest date and the most recent date**"
      ]
    },
    {
      "cell_type": "code",
      "execution_count": null,
      "metadata": {
        "id": "oP8NWAiUuSJC"
      },
      "outputs": [],
      "source": [
        "df.select(min(to_date(col('Date'))).alias('Oldest_Date'), max(to_date(col('Date'))).alias('Most_Recent_Date')).show()"
      ]
    },
    {
      "cell_type": "markdown",
      "metadata": {
        "id": "4BJvThINk7o-"
      },
      "source": [
        "### 4.3 - Date"
      ]
    },
    {
      "cell_type": "markdown",
      "metadata": {
        "id": "Qjh1t1XamJ-E"
      },
      "source": [
        "**What is 3 days earlier that the oldest date and 3 days later than the most recent date?**"
      ]
    },
    {
      "cell_type": "code",
      "execution_count": null,
      "metadata": {
        "id": "NMFcA4rhlOs3"
      },
      "outputs": [],
      "source": [
        "df.select(  \n",
        "    min(date_add(to_date(col('Date')), -3)).alias('3 Days before (OD)'), \n",
        "    min(to_date(col('Date'))).alias('Oldest_Date (OD)'),\n",
        "    max(to_date(col('Date'))).alias('Maximum_Recent_Date (MRD)'),\n",
        "    max(date_add(to_date(col('Date')), + 3)).alias('3 Days after (MRD)')\n",
        "    ).show()"
      ]
    },
    {
      "cell_type": "markdown",
      "metadata": {},
      "source": []
    },
    {
      "cell_type": "markdown",
      "metadata": {
        "id": "9lAyzg282V_4"
      },
      "source": [
        "## 5 - Joins"
      ]
    },
    {
      "cell_type": "markdown",
      "metadata": {
        "id": "5klVM9jJZBDl"
      },
      "source": [
        "### 5.1 - Download police station data"
      ]
    },
    {
      "cell_type": "code",
      "execution_count": 25,
      "metadata": {
        "id": "c7CFhY3K2V_5"
      },
      "outputs": [],
      "source": [
        "from pyspark.sql.functions import lpad, date_format"
      ]
    },
    {
      "cell_type": "code",
      "execution_count": null,
      "metadata": {
        "id": "R47fcwV82V_5"
      },
      "outputs": [],
      "source": [
        "df_police = spark.read.csv('police_station.csv', header=True).withColumn('Format_District', lpad(col('District'),3,'0'))\n",
        "df_police.show(5)\n",
        "df_police.select('Format_District').distinct().show()"
      ]
    },
    {
      "cell_type": "markdown",
      "metadata": {
        "id": "CdBqB9Oiw0gV"
      },
      "source": [
        "### 5.2 - The crimes data has only the district no. Add district name by joining with the police station data"
      ]
    },
    {
      "cell_type": "code",
      "execution_count": null,
      "metadata": {
        "id": "S84o4-yZ2V_5"
      },
      "outputs": [],
      "source": [
        "df_join = df.join(df_police, df.District == df_police.Format_District,'inner')\n",
        "df_join.select('ID', 'Case Number','Date',col('Format_District').alias('DIstrict'),'District Name','Primary Type','Description', 'ADDRESS','Ward','Community Area').show(3)"
      ]
    },
    {
      "cell_type": "markdown",
      "metadata": {},
      "source": []
    },
    {
      "cell_type": "markdown",
      "metadata": {
        "id": "-aQQ2gBF3Azz"
      },
      "source": [
        "## 6 - Challenge questions"
      ]
    },
    {
      "cell_type": "markdown",
      "metadata": {
        "id": "AopcTx5q3Az0"
      },
      "source": [
        "### 6.1 - What is the most frequently reported non-criminal activity (Top 5)? "
      ]
    },
    {
      "cell_type": "code",
      "execution_count": null,
      "metadata": {
        "id": "PEw5vyF63Az0"
      },
      "outputs": [],
      "source": [
        "df_rc.groupBy('Primary Type').count().orderBy('count', ascending=False).show(5,truncate=False)"
      ]
    },
    {
      "cell_type": "markdown",
      "metadata": {
        "id": "ff7cLpWh3Az0"
      },
      "source": [
        "### 6.2 - Using a bar chart, plot which day of the week has the most number of reported crime."
      ]
    },
    {
      "cell_type": "code",
      "execution_count": null,
      "metadata": {
        "id": "mo8JV7083Az0"
      },
      "outputs": [],
      "source": [
        "df_crime_days = df_rc.groupBy(date_format(col('Date'),'E').alias('Week Day')).count().orderBy('count', ascending=False)\n",
        "df_crime_days.show()"
      ]
    },
    {
      "cell_type": "code",
      "execution_count": null,
      "metadata": {
        "id": "w0UWY8A13Az0"
      },
      "outputs": [],
      "source": [
        "import matplotlib.pyplot as plt\n",
        "pd = df_crime_days.toPandas()\n",
        "\n",
        "# Plot the data\n",
        "plt.bar(pd['Week Day'], pd[\"count\"])\n",
        "plt.xlabel(\"WK Day\")\n",
        "plt.ylabel(\"Count\")\n",
        "plt.title(\"Crimes commited by days of the week\")\n",
        "plt.show()\n"
      ]
    },
    {
      "cell_type": "markdown",
      "metadata": {},
      "source": []
    },
    {
      "cell_type": "markdown",
      "metadata": {
        "id": "oSOpIOhJ4etN"
      },
      "source": [
        "## (05-01) RDDs setup"
      ]
    },
    {
      "cell_type": "code",
      "execution_count": null,
      "metadata": {
        "id": "xcOe8kAS4etN"
      },
      "outputs": [],
      "source": []
    },
    {
      "cell_type": "code",
      "execution_count": null,
      "metadata": {
        "id": "uxMRo2C14etN"
      },
      "outputs": [],
      "source": []
    },
    {
      "cell_type": "code",
      "execution_count": null,
      "metadata": {
        "id": "eYDxom404etN"
      },
      "outputs": [],
      "source": []
    },
    {
      "cell_type": "code",
      "execution_count": null,
      "metadata": {
        "id": "OT4nbSiJ4etN"
      },
      "outputs": [],
      "source": []
    },
    {
      "cell_type": "code",
      "execution_count": null,
      "metadata": {
        "id": "uiOTLr8N4etO"
      },
      "outputs": [],
      "source": []
    },
    {
      "cell_type": "code",
      "execution_count": null,
      "metadata": {
        "id": "FWNY2gxZ4etO"
      },
      "outputs": [],
      "source": []
    },
    {
      "cell_type": "code",
      "execution_count": null,
      "metadata": {
        "id": "nyAtd_Rl4etO"
      },
      "outputs": [],
      "source": []
    },
    {
      "cell_type": "code",
      "execution_count": null,
      "metadata": {
        "id": "fAqt2hEX4etO"
      },
      "outputs": [],
      "source": []
    },
    {
      "cell_type": "code",
      "execution_count": null,
      "metadata": {
        "id": "eG-5DmgE4etO"
      },
      "outputs": [],
      "source": []
    },
    {
      "cell_type": "code",
      "execution_count": null,
      "metadata": {
        "id": "LpAhPr-0RW0E"
      },
      "outputs": [],
      "source": []
    },
    {
      "cell_type": "markdown",
      "metadata": {
        "id": "ShYgMK6jPsSt"
      },
      "source": [
        "**How many police stations are there?**"
      ]
    },
    {
      "cell_type": "code",
      "execution_count": null,
      "metadata": {
        "id": "2FbZPk84Pwxc"
      },
      "outputs": [],
      "source": []
    },
    {
      "cell_type": "code",
      "execution_count": null,
      "metadata": {
        "id": "Iv-dVhhhPwrO"
      },
      "outputs": [],
      "source": []
    },
    {
      "cell_type": "code",
      "execution_count": null,
      "metadata": {
        "id": "cQ1u4_cpGZqs"
      },
      "outputs": [],
      "source": []
    },
    {
      "cell_type": "code",
      "execution_count": null,
      "metadata": {
        "id": "8M0_0ZW1GZCO"
      },
      "outputs": [],
      "source": []
    },
    {
      "cell_type": "markdown",
      "metadata": {
        "id": "WKYiypY0MbJ1"
      },
      "source": [
        "**Display the District ID, District name, Address and Zip for the police station with District ID 7**\n",
        "\n"
      ]
    },
    {
      "cell_type": "code",
      "execution_count": null,
      "metadata": {
        "id": "iHxLAHHq4etO"
      },
      "outputs": [],
      "source": []
    },
    {
      "cell_type": "code",
      "execution_count": null,
      "metadata": {
        "id": "Z6dW5knty7pT"
      },
      "outputs": [],
      "source": []
    },
    {
      "cell_type": "code",
      "execution_count": null,
      "metadata": {
        "id": "6rMBWoqm4etO"
      },
      "outputs": [],
      "source": []
    },
    {
      "cell_type": "code",
      "execution_count": null,
      "metadata": {
        "id": "wHgN7nVW4etP"
      },
      "outputs": [],
      "source": []
    },
    {
      "cell_type": "markdown",
      "metadata": {
        "id": "1mWxQg2mN4W7"
      },
      "source": [
        "**Police stations 10 and 11 are geographically close to each other. Display the District ID, District name, address and zip code**"
      ]
    },
    {
      "cell_type": "code",
      "execution_count": null,
      "metadata": {
        "id": "9DiIzEr-Gadn"
      },
      "outputs": [],
      "source": []
    },
    {
      "cell_type": "code",
      "execution_count": null,
      "metadata": {
        "id": "CcdG-eOk4etP"
      },
      "outputs": [],
      "source": []
    },
    {
      "cell_type": "code",
      "execution_count": null,
      "metadata": {
        "id": "KnghPtPt4etP"
      },
      "outputs": [],
      "source": []
    },
    {
      "cell_type": "code",
      "execution_count": null,
      "metadata": {
        "id": "Bvd3ldUs4etP"
      },
      "outputs": [],
      "source": []
    }
  ],
  "metadata": {
    "colab": {
      "collapsed_sections": [
        "qJoeN3e8_Gzk",
        "Dd6t0uFzuR4X",
        "8qf-TmnsBgXd",
        "3UJoYm5zwOWp",
        "mI_zYOVpf2yK",
        "NiU1nhA3y0j4",
        "9sDnyyzozVxA",
        "D7Dw2UpQ08-9",
        "hiKFyArf14B0",
        "9lAyzg282V_4",
        "-aQQ2gBF3Azz",
        "oSOpIOhJ4etN"
      ],
      "provenance": []
    },
    "kernelspec": {
      "display_name": "Python 3",
      "name": "python3"
    },
    "language_info": {
      "codemirror_mode": {
        "name": "ipython",
        "version": 3
      },
      "file_extension": ".py",
      "mimetype": "text/x-python",
      "name": "python",
      "nbconvert_exporter": "python",
      "pygments_lexer": "ipython3",
      "version": "3.11.1"
    }
  },
  "nbformat": 4,
  "nbformat_minor": 0
}
